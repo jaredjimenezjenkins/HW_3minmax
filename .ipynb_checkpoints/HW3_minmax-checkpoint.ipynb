{
  "cells": [
    {
      "cell_type": "code",
      "execution_count": 15,
      "id": "2d2e3d99-7100-4941-aad8-57b178798e94",
      "metadata": {
        "id": "2d2e3d99-7100-4941-aad8-57b178798e94",
        "outputId": "b3265c78-959f-470a-a2a5-272b1d3df2e2",
        "colab": {
          "base_uri": "https://localhost:8080/"
        }
      },
      "outputs": [
        {
          "output_type": "stream",
          "name": "stdout",
          "text": [
            "Requirement already satisfied: pulp in /usr/local/lib/python3.11/dist-packages (3.1.1)\n"
          ]
        }
      ],
      "source": [
        "!pip install  pulp"
      ]
    },
    {
      "cell_type": "code",
      "execution_count": 16,
      "id": "a105dc9b-d105-49d3-8093-96d03eca9530",
      "metadata": {
        "id": "a105dc9b-d105-49d3-8093-96d03eca9530"
      },
      "outputs": [],
      "source": [
        "import pulp as pp"
      ]
    },
    {
      "cell_type": "markdown",
      "id": "dd461c8a-8a20-4a93-aa9e-2b46c1deaf52",
      "metadata": {
        "id": "dd461c8a-8a20-4a93-aa9e-2b46c1deaf52"
      },
      "source": [
        "1. **I first initialized the model**: just write the name and declare if it is maximization or minimization problem type. THIS IS MINIMIZATION!!!"
      ]
    },
    {
      "cell_type": "code",
      "execution_count": 17,
      "id": "4436e0c7",
      "metadata": {
        "id": "4436e0c7"
      },
      "outputs": [],
      "source": [
        "model = pp.LpProblem(name='vitamin-problem', # just the name\n",
        "                     sense=pp.LpMinimize) # other option: LpMinimize"
      ]
    },
    {
      "cell_type": "markdown",
      "id": "c001fd3a-190b-45d8-9fa3-c3e21578fa03",
      "metadata": {
        "id": "c001fd3a-190b-45d8-9fa3-c3e21578fa03"
      },
      "source": [
        "2. **I declared the variables**: The refinery model consists of these _variables_:"
      ]
    },
    {
      "cell_type": "code",
      "execution_count": 18,
      "id": "8533e838-9e02-4ca8-85ef-de557cb1dd7c",
      "metadata": {
        "id": "8533e838-9e02-4ca8-85ef-de557cb1dd7c"
      },
      "outputs": [],
      "source": [
        "# how much SuperVit vitamin?\n",
        "SuperVit = pp.LpVariable(name=\"SuperVit\",  # just the name\n",
        "                    lowBound=0,  # ensure non-negativity\n",
        "                    cat='Continuous') # when would 'Integer' be needed?\n",
        "\n",
        "# how much NewHealth vitamin?\n",
        "NewHealth = pp.LpVariable(name=\"NewHealth\",\n",
        "                 lowBound=0,\n",
        "                 cat='Continuous')"
      ]
    },
    {
      "cell_type": "markdown",
      "id": "611438aa-54e1-4cdd-aa77-44702feb498a",
      "metadata": {
        "id": "611438aa-54e1-4cdd-aa77-44702feb498a"
      },
      "source": [
        "3. **I then created a function to OPTIMIZE**: The following function is just the linear combination of the variables and their _given coefficients_:"
      ]
    },
    {
      "cell_type": "code",
      "execution_count": 19,
      "id": "e676c256-353d-4fbd-a206-6914f29ff8ba",
      "metadata": {
        "id": "e676c256-353d-4fbd-a206-6914f29ff8ba"
      },
      "outputs": [],
      "source": [
        "SuperVitCoeff=0.2\n",
        "NewHealthCoeff=0.3\n",
        "obj_func = SuperVitCoeff*SuperVit + NewHealthCoeff*NewHealth"
      ]
    },
    {
      "cell_type": "markdown",
      "id": "65a5c48f-d28c-489a-bcd4-f97be76b57c7",
      "metadata": {
        "id": "65a5c48f-d28c-489a-bcd4-f97be76b57c7"
      },
      "source": [
        "4. **Next, I represented the constraints**: These are the rules the model (set of variables) must obey:"
      ]
    },
    {
      "cell_type": "code",
      "execution_count": 20,
      "id": "c24146f7-5db5-4606-90fd-9bc010685754",
      "metadata": {
        "id": "c24146f7-5db5-4606-90fd-9bc010685754"
      },
      "outputs": [],
      "source": [
        "# SUBJECT TO:\n",
        "C1= pp.LpConstraint(name='Vitamin C',   # just the name\n",
        "                    e= 20*SuperVit + 30*NewHealth,\n",
        "                    rhs=60,\n",
        "                    sense=pp.LpConstraintGE) # >= 'sense'\n",
        "C2= pp.LpConstraint(name='Calcium',\n",
        "                    e= 500*SuperVit + 250*NewHealth,\n",
        "                    rhs=1000,\n",
        "                    sense=pp.LpConstraintGE)# <= 'sense'\n",
        "C3= pp.LpConstraint(name='Iron',\n",
        "                    e= 9*SuperVit + 2*NewHealth,\n",
        "                    rhs=18,\n",
        "                    sense=pp.LpConstraintGE)# <= 'sense'\n",
        "C4= pp.LpConstraint(name='Niacin',\n",
        "                    e= 2*SuperVit + 10*NewHealth,\n",
        "                    rhs=20,\n",
        "                    sense=pp.LpConstraintGE) # >= 'sense'\n",
        "C5= pp.LpConstraint(name='Magnesium',\n",
        "                    e= 60*SuperVit + 90*NewHealth,\n",
        "                    rhs=360,\n",
        "                    sense=pp.LpConstraintGE) # >= 'sense'"
      ]
    },
    {
      "cell_type": "markdown",
      "id": "10465ba5-03d5-41d0-9e65-b4c13d8a8728",
      "metadata": {
        "id": "10465ba5-03d5-41d0-9e65-b4c13d8a8728"
      },
      "source": [
        "5. **I built the model**: Here I added (i) the objective function, and (ii) all the constraints:"
      ]
    },
    {
      "cell_type": "code",
      "execution_count": 21,
      "id": "44dd2783-49c1-44fd-952b-47743c9d4686",
      "metadata": {
        "id": "44dd2783-49c1-44fd-952b-47743c9d4686"
      },
      "outputs": [],
      "source": [
        "model += obj_func\n",
        "model += C1\n",
        "model += C2\n",
        "model += C3\n",
        "model += C4\n",
        "model += C5\n"
      ]
    },
    {
      "cell_type": "markdown",
      "id": "2a332886-694b-40d8-98d3-e27066b28e96",
      "metadata": {
        "id": "2a332886-694b-40d8-98d3-e27066b28e96"
      },
      "source": [
        "6. **I solved the model**: Notice we are not using the _default solver_:"
      ]
    },
    {
      "cell_type": "code",
      "execution_count": 22,
      "id": "636442d1-a48c-4a3a-a84d-9f2312f3d473",
      "metadata": {
        "id": "636442d1-a48c-4a3a-a84d-9f2312f3d473"
      },
      "outputs": [],
      "source": [
        "model.solve();"
      ]
    },
    {
      "cell_type": "markdown",
      "id": "1cd725f8-fef3-48b6-ad74-d102c260c134",
      "metadata": {
        "id": "1cd725f8-fef3-48b6-ad74-d102c260c134"
      },
      "source": [
        "7. **Here is my basic report**:\n",
        "\n",
        "From above, you can print:"
      ]
    },
    {
      "cell_type": "code",
      "execution_count": 23,
      "id": "cb6125aa-53db-4fdf-8f11-8b2aaa8b347d",
      "metadata": {
        "id": "cb6125aa-53db-4fdf-8f11-8b2aaa8b347d",
        "colab": {
          "base_uri": "https://localhost:8080/"
        },
        "outputId": "799bd20c-3a18-4251-96b5-f8a09e6e8243"
      },
      "outputs": [
        {
          "output_type": "execute_result",
          "data": {
            "text/plain": [
              "('Model Status', 'Optimal')"
            ]
          },
          "metadata": {},
          "execution_count": 23
        }
      ],
      "source": [
        "\"Model Status\",pp.LpStatus[model.status]"
      ]
    },
    {
      "cell_type": "markdown",
      "id": "7db07777-25b5-46c9-9d51-f1d0e3ceb709",
      "metadata": {
        "id": "7db07777-25b5-46c9-9d51-f1d0e3ceb709"
      },
      "source": [
        "I also obtained these key results:"
      ]
    },
    {
      "cell_type": "code",
      "execution_count": 24,
      "id": "3a0152d1-cdd5-4426-9ba6-90556a685048",
      "metadata": {
        "id": "3a0152d1-cdd5-4426-9ba6-90556a685048",
        "colab": {
          "base_uri": "https://localhost:8080/"
        },
        "outputId": "62cdc741-0461-4c40-e61d-89bb1b2dab65"
      },
      "outputs": [
        {
          "output_type": "execute_result",
          "data": {
            "text/plain": [
              "{'Optimal Solution to minimize spending': 1.2,\n",
              " 'NewHealth': 3.1304348,\n",
              " 'SuperVit': 1.3043478}"
            ]
          },
          "metadata": {},
          "execution_count": 24
        }
      ],
      "source": [
        "Results={\"Optimal Solution to minimize spending\":pp.value(model.objective)}\n",
        "Results.update({v.name: v.varValue for v in model.variables()})\n",
        "Results"
      ]
    },
    {
      "cell_type": "code",
      "execution_count": 25,
      "id": "651fadcc-cb30-4caa-98e4-f6215c0be7a9",
      "metadata": {
        "id": "651fadcc-cb30-4caa-98e4-f6215c0be7a9",
        "colab": {
          "base_uri": "https://localhost:8080/",
          "height": 143
        },
        "outputId": "03eb3a73-ebd1-4621-9e54-f683b5d468a1"
      },
      "outputs": [
        {
          "output_type": "execute_result",
          "data": {
            "text/plain": [
              "                                       info\n",
              "Optimal Solution to minimize spending  1.20\n",
              "NewHealth                              3.13\n",
              "SuperVit                               1.30"
            ],
            "text/html": [
              "\n",
              "  <div id=\"df-98844fa2-ce0b-412e-bdd5-0b17cf6d6b26\" class=\"colab-df-container\">\n",
              "    <div>\n",
              "<style scoped>\n",
              "    .dataframe tbody tr th:only-of-type {\n",
              "        vertical-align: middle;\n",
              "    }\n",
              "\n",
              "    .dataframe tbody tr th {\n",
              "        vertical-align: top;\n",
              "    }\n",
              "\n",
              "    .dataframe thead th {\n",
              "        text-align: right;\n",
              "    }\n",
              "</style>\n",
              "<table border=\"1\" class=\"dataframe\">\n",
              "  <thead>\n",
              "    <tr style=\"text-align: right;\">\n",
              "      <th></th>\n",
              "      <th>info</th>\n",
              "    </tr>\n",
              "  </thead>\n",
              "  <tbody>\n",
              "    <tr>\n",
              "      <th>Optimal Solution to minimize spending</th>\n",
              "      <td>1.20</td>\n",
              "    </tr>\n",
              "    <tr>\n",
              "      <th>NewHealth</th>\n",
              "      <td>3.13</td>\n",
              "    </tr>\n",
              "    <tr>\n",
              "      <th>SuperVit</th>\n",
              "      <td>1.30</td>\n",
              "    </tr>\n",
              "  </tbody>\n",
              "</table>\n",
              "</div>\n",
              "    <div class=\"colab-df-buttons\">\n",
              "\n",
              "  <div class=\"colab-df-container\">\n",
              "    <button class=\"colab-df-convert\" onclick=\"convertToInteractive('df-98844fa2-ce0b-412e-bdd5-0b17cf6d6b26')\"\n",
              "            title=\"Convert this dataframe to an interactive table.\"\n",
              "            style=\"display:none;\">\n",
              "\n",
              "  <svg xmlns=\"http://www.w3.org/2000/svg\" height=\"24px\" viewBox=\"0 -960 960 960\">\n",
              "    <path d=\"M120-120v-720h720v720H120Zm60-500h600v-160H180v160Zm220 220h160v-160H400v160Zm0 220h160v-160H400v160ZM180-400h160v-160H180v160Zm440 0h160v-160H620v160ZM180-180h160v-160H180v160Zm440 0h160v-160H620v160Z\"/>\n",
              "  </svg>\n",
              "    </button>\n",
              "\n",
              "  <style>\n",
              "    .colab-df-container {\n",
              "      display:flex;\n",
              "      gap: 12px;\n",
              "    }\n",
              "\n",
              "    .colab-df-convert {\n",
              "      background-color: #E8F0FE;\n",
              "      border: none;\n",
              "      border-radius: 50%;\n",
              "      cursor: pointer;\n",
              "      display: none;\n",
              "      fill: #1967D2;\n",
              "      height: 32px;\n",
              "      padding: 0 0 0 0;\n",
              "      width: 32px;\n",
              "    }\n",
              "\n",
              "    .colab-df-convert:hover {\n",
              "      background-color: #E2EBFA;\n",
              "      box-shadow: 0px 1px 2px rgba(60, 64, 67, 0.3), 0px 1px 3px 1px rgba(60, 64, 67, 0.15);\n",
              "      fill: #174EA6;\n",
              "    }\n",
              "\n",
              "    .colab-df-buttons div {\n",
              "      margin-bottom: 4px;\n",
              "    }\n",
              "\n",
              "    [theme=dark] .colab-df-convert {\n",
              "      background-color: #3B4455;\n",
              "      fill: #D2E3FC;\n",
              "    }\n",
              "\n",
              "    [theme=dark] .colab-df-convert:hover {\n",
              "      background-color: #434B5C;\n",
              "      box-shadow: 0px 1px 3px 1px rgba(0, 0, 0, 0.15);\n",
              "      filter: drop-shadow(0px 1px 2px rgba(0, 0, 0, 0.3));\n",
              "      fill: #FFFFFF;\n",
              "    }\n",
              "  </style>\n",
              "\n",
              "    <script>\n",
              "      const buttonEl =\n",
              "        document.querySelector('#df-98844fa2-ce0b-412e-bdd5-0b17cf6d6b26 button.colab-df-convert');\n",
              "      buttonEl.style.display =\n",
              "        google.colab.kernel.accessAllowed ? 'block' : 'none';\n",
              "\n",
              "      async function convertToInteractive(key) {\n",
              "        const element = document.querySelector('#df-98844fa2-ce0b-412e-bdd5-0b17cf6d6b26');\n",
              "        const dataTable =\n",
              "          await google.colab.kernel.invokeFunction('convertToInteractive',\n",
              "                                                    [key], {});\n",
              "        if (!dataTable) return;\n",
              "\n",
              "        const docLinkHtml = 'Like what you see? Visit the ' +\n",
              "          '<a target=\"_blank\" href=https://colab.research.google.com/notebooks/data_table.ipynb>data table notebook</a>'\n",
              "          + ' to learn more about interactive tables.';\n",
              "        element.innerHTML = '';\n",
              "        dataTable['output_type'] = 'display_data';\n",
              "        await google.colab.output.renderOutput(dataTable, element);\n",
              "        const docLink = document.createElement('div');\n",
              "        docLink.innerHTML = docLinkHtml;\n",
              "        element.appendChild(docLink);\n",
              "      }\n",
              "    </script>\n",
              "  </div>\n",
              "\n",
              "\n",
              "<div id=\"df-13933164-b970-403b-8dbd-8655b150fa1c\">\n",
              "  <button class=\"colab-df-quickchart\" onclick=\"quickchart('df-13933164-b970-403b-8dbd-8655b150fa1c')\"\n",
              "            title=\"Suggest charts\"\n",
              "            style=\"display:none;\">\n",
              "\n",
              "<svg xmlns=\"http://www.w3.org/2000/svg\" height=\"24px\"viewBox=\"0 0 24 24\"\n",
              "     width=\"24px\">\n",
              "    <g>\n",
              "        <path d=\"M19 3H5c-1.1 0-2 .9-2 2v14c0 1.1.9 2 2 2h14c1.1 0 2-.9 2-2V5c0-1.1-.9-2-2-2zM9 17H7v-7h2v7zm4 0h-2V7h2v10zm4 0h-2v-4h2v4z\"/>\n",
              "    </g>\n",
              "</svg>\n",
              "  </button>\n",
              "\n",
              "<style>\n",
              "  .colab-df-quickchart {\n",
              "      --bg-color: #E8F0FE;\n",
              "      --fill-color: #1967D2;\n",
              "      --hover-bg-color: #E2EBFA;\n",
              "      --hover-fill-color: #174EA6;\n",
              "      --disabled-fill-color: #AAA;\n",
              "      --disabled-bg-color: #DDD;\n",
              "  }\n",
              "\n",
              "  [theme=dark] .colab-df-quickchart {\n",
              "      --bg-color: #3B4455;\n",
              "      --fill-color: #D2E3FC;\n",
              "      --hover-bg-color: #434B5C;\n",
              "      --hover-fill-color: #FFFFFF;\n",
              "      --disabled-bg-color: #3B4455;\n",
              "      --disabled-fill-color: #666;\n",
              "  }\n",
              "\n",
              "  .colab-df-quickchart {\n",
              "    background-color: var(--bg-color);\n",
              "    border: none;\n",
              "    border-radius: 50%;\n",
              "    cursor: pointer;\n",
              "    display: none;\n",
              "    fill: var(--fill-color);\n",
              "    height: 32px;\n",
              "    padding: 0;\n",
              "    width: 32px;\n",
              "  }\n",
              "\n",
              "  .colab-df-quickchart:hover {\n",
              "    background-color: var(--hover-bg-color);\n",
              "    box-shadow: 0 1px 2px rgba(60, 64, 67, 0.3), 0 1px 3px 1px rgba(60, 64, 67, 0.15);\n",
              "    fill: var(--button-hover-fill-color);\n",
              "  }\n",
              "\n",
              "  .colab-df-quickchart-complete:disabled,\n",
              "  .colab-df-quickchart-complete:disabled:hover {\n",
              "    background-color: var(--disabled-bg-color);\n",
              "    fill: var(--disabled-fill-color);\n",
              "    box-shadow: none;\n",
              "  }\n",
              "\n",
              "  .colab-df-spinner {\n",
              "    border: 2px solid var(--fill-color);\n",
              "    border-color: transparent;\n",
              "    border-bottom-color: var(--fill-color);\n",
              "    animation:\n",
              "      spin 1s steps(1) infinite;\n",
              "  }\n",
              "\n",
              "  @keyframes spin {\n",
              "    0% {\n",
              "      border-color: transparent;\n",
              "      border-bottom-color: var(--fill-color);\n",
              "      border-left-color: var(--fill-color);\n",
              "    }\n",
              "    20% {\n",
              "      border-color: transparent;\n",
              "      border-left-color: var(--fill-color);\n",
              "      border-top-color: var(--fill-color);\n",
              "    }\n",
              "    30% {\n",
              "      border-color: transparent;\n",
              "      border-left-color: var(--fill-color);\n",
              "      border-top-color: var(--fill-color);\n",
              "      border-right-color: var(--fill-color);\n",
              "    }\n",
              "    40% {\n",
              "      border-color: transparent;\n",
              "      border-right-color: var(--fill-color);\n",
              "      border-top-color: var(--fill-color);\n",
              "    }\n",
              "    60% {\n",
              "      border-color: transparent;\n",
              "      border-right-color: var(--fill-color);\n",
              "    }\n",
              "    80% {\n",
              "      border-color: transparent;\n",
              "      border-right-color: var(--fill-color);\n",
              "      border-bottom-color: var(--fill-color);\n",
              "    }\n",
              "    90% {\n",
              "      border-color: transparent;\n",
              "      border-bottom-color: var(--fill-color);\n",
              "    }\n",
              "  }\n",
              "</style>\n",
              "\n",
              "  <script>\n",
              "    async function quickchart(key) {\n",
              "      const quickchartButtonEl =\n",
              "        document.querySelector('#' + key + ' button');\n",
              "      quickchartButtonEl.disabled = true;  // To prevent multiple clicks.\n",
              "      quickchartButtonEl.classList.add('colab-df-spinner');\n",
              "      try {\n",
              "        const charts = await google.colab.kernel.invokeFunction(\n",
              "            'suggestCharts', [key], {});\n",
              "      } catch (error) {\n",
              "        console.error('Error during call to suggestCharts:', error);\n",
              "      }\n",
              "      quickchartButtonEl.classList.remove('colab-df-spinner');\n",
              "      quickchartButtonEl.classList.add('colab-df-quickchart-complete');\n",
              "    }\n",
              "    (() => {\n",
              "      let quickchartButtonEl =\n",
              "        document.querySelector('#df-13933164-b970-403b-8dbd-8655b150fa1c button');\n",
              "      quickchartButtonEl.style.display =\n",
              "        google.colab.kernel.accessAllowed ? 'block' : 'none';\n",
              "    })();\n",
              "  </script>\n",
              "</div>\n",
              "\n",
              "    </div>\n",
              "  </div>\n"
            ],
            "application/vnd.google.colaboratory.intrinsic+json": {
              "type": "dataframe",
              "summary": "{\n  \"name\": \"pd\",\n  \"rows\": 3,\n  \"fields\": [\n    {\n      \"column\": \"info\",\n      \"properties\": {\n        \"dtype\": \"string\",\n        \"num_unique_values\": 3,\n        \"samples\": [\n          \"1.20\",\n          \"3.13\",\n          \"1.30\"\n        ],\n        \"semantic_type\": \"\",\n        \"description\": \"\"\n      }\n    }\n  ]\n}"
            }
          },
          "metadata": {},
          "execution_count": 25
        }
      ],
      "source": [
        "#or\n",
        "import pandas as pd\n",
        "pd.DataFrame.from_dict(Results,orient='index',columns=['info']).map('{:,.2f}'.format)"
      ]
    },
    {
      "cell_type": "markdown",
      "id": "293383eb-7e1d-42cf-ab90-c5ef44c11a96",
      "metadata": {
        "id": "293383eb-7e1d-42cf-ab90-c5ef44c11a96"
      },
      "source": [
        "From above, we now know how much of each vitamin to purchase (SuperVit and NewHealth) to save the most money while getting our neccesary vitamins, as subjected to the constraints given."
      ]
    },
    {
      "cell_type": "markdown",
      "id": "972bc1be-52b2-404e-9bae-c63d51cf9339",
      "metadata": {
        "id": "972bc1be-52b2-404e-9bae-c63d51cf9339"
      },
      "source": [
        "7. **I framed the sensitivity of the results as followed:"
      ]
    },
    {
      "cell_type": "code",
      "execution_count": 26,
      "id": "bfc1d779-df0d-42f7-b88c-e8935771110e",
      "metadata": {
        "id": "bfc1d779-df0d-42f7-b88c-e8935771110e",
        "colab": {
          "base_uri": "https://localhost:8080/",
          "height": 238
        },
        "outputId": "9eb20557-dfdd-46e5-97c6-c146c9c84487"
      },
      "outputs": [
        {
          "output_type": "execute_result",
          "data": {
            "text/plain": [
              "            shadow price    slack\n",
              "constraints                      \n",
              "Vitamin_C           0.00   -60.00\n",
              "Calcium             0.00  -434.78\n",
              "Iron                0.00    -0.00\n",
              "Niacin              0.00   -13.91\n",
              "Magnesium           0.00    -0.00"
            ],
            "text/html": [
              "\n",
              "  <div id=\"df-161a3771-bb43-4e62-b45d-a8f1d36a5753\" class=\"colab-df-container\">\n",
              "    <div>\n",
              "<style scoped>\n",
              "    .dataframe tbody tr th:only-of-type {\n",
              "        vertical-align: middle;\n",
              "    }\n",
              "\n",
              "    .dataframe tbody tr th {\n",
              "        vertical-align: top;\n",
              "    }\n",
              "\n",
              "    .dataframe thead th {\n",
              "        text-align: right;\n",
              "    }\n",
              "</style>\n",
              "<table border=\"1\" class=\"dataframe\">\n",
              "  <thead>\n",
              "    <tr style=\"text-align: right;\">\n",
              "      <th></th>\n",
              "      <th>shadow price</th>\n",
              "      <th>slack</th>\n",
              "    </tr>\n",
              "    <tr>\n",
              "      <th>constraints</th>\n",
              "      <th></th>\n",
              "      <th></th>\n",
              "    </tr>\n",
              "  </thead>\n",
              "  <tbody>\n",
              "    <tr>\n",
              "      <th>Vitamin_C</th>\n",
              "      <td>0.00</td>\n",
              "      <td>-60.00</td>\n",
              "    </tr>\n",
              "    <tr>\n",
              "      <th>Calcium</th>\n",
              "      <td>0.00</td>\n",
              "      <td>-434.78</td>\n",
              "    </tr>\n",
              "    <tr>\n",
              "      <th>Iron</th>\n",
              "      <td>0.00</td>\n",
              "      <td>-0.00</td>\n",
              "    </tr>\n",
              "    <tr>\n",
              "      <th>Niacin</th>\n",
              "      <td>0.00</td>\n",
              "      <td>-13.91</td>\n",
              "    </tr>\n",
              "    <tr>\n",
              "      <th>Magnesium</th>\n",
              "      <td>0.00</td>\n",
              "      <td>-0.00</td>\n",
              "    </tr>\n",
              "  </tbody>\n",
              "</table>\n",
              "</div>\n",
              "    <div class=\"colab-df-buttons\">\n",
              "\n",
              "  <div class=\"colab-df-container\">\n",
              "    <button class=\"colab-df-convert\" onclick=\"convertToInteractive('df-161a3771-bb43-4e62-b45d-a8f1d36a5753')\"\n",
              "            title=\"Convert this dataframe to an interactive table.\"\n",
              "            style=\"display:none;\">\n",
              "\n",
              "  <svg xmlns=\"http://www.w3.org/2000/svg\" height=\"24px\" viewBox=\"0 -960 960 960\">\n",
              "    <path d=\"M120-120v-720h720v720H120Zm60-500h600v-160H180v160Zm220 220h160v-160H400v160Zm0 220h160v-160H400v160ZM180-400h160v-160H180v160Zm440 0h160v-160H620v160ZM180-180h160v-160H180v160Zm440 0h160v-160H620v160Z\"/>\n",
              "  </svg>\n",
              "    </button>\n",
              "\n",
              "  <style>\n",
              "    .colab-df-container {\n",
              "      display:flex;\n",
              "      gap: 12px;\n",
              "    }\n",
              "\n",
              "    .colab-df-convert {\n",
              "      background-color: #E8F0FE;\n",
              "      border: none;\n",
              "      border-radius: 50%;\n",
              "      cursor: pointer;\n",
              "      display: none;\n",
              "      fill: #1967D2;\n",
              "      height: 32px;\n",
              "      padding: 0 0 0 0;\n",
              "      width: 32px;\n",
              "    }\n",
              "\n",
              "    .colab-df-convert:hover {\n",
              "      background-color: #E2EBFA;\n",
              "      box-shadow: 0px 1px 2px rgba(60, 64, 67, 0.3), 0px 1px 3px 1px rgba(60, 64, 67, 0.15);\n",
              "      fill: #174EA6;\n",
              "    }\n",
              "\n",
              "    .colab-df-buttons div {\n",
              "      margin-bottom: 4px;\n",
              "    }\n",
              "\n",
              "    [theme=dark] .colab-df-convert {\n",
              "      background-color: #3B4455;\n",
              "      fill: #D2E3FC;\n",
              "    }\n",
              "\n",
              "    [theme=dark] .colab-df-convert:hover {\n",
              "      background-color: #434B5C;\n",
              "      box-shadow: 0px 1px 3px 1px rgba(0, 0, 0, 0.15);\n",
              "      filter: drop-shadow(0px 1px 2px rgba(0, 0, 0, 0.3));\n",
              "      fill: #FFFFFF;\n",
              "    }\n",
              "  </style>\n",
              "\n",
              "    <script>\n",
              "      const buttonEl =\n",
              "        document.querySelector('#df-161a3771-bb43-4e62-b45d-a8f1d36a5753 button.colab-df-convert');\n",
              "      buttonEl.style.display =\n",
              "        google.colab.kernel.accessAllowed ? 'block' : 'none';\n",
              "\n",
              "      async function convertToInteractive(key) {\n",
              "        const element = document.querySelector('#df-161a3771-bb43-4e62-b45d-a8f1d36a5753');\n",
              "        const dataTable =\n",
              "          await google.colab.kernel.invokeFunction('convertToInteractive',\n",
              "                                                    [key], {});\n",
              "        if (!dataTable) return;\n",
              "\n",
              "        const docLinkHtml = 'Like what you see? Visit the ' +\n",
              "          '<a target=\"_blank\" href=https://colab.research.google.com/notebooks/data_table.ipynb>data table notebook</a>'\n",
              "          + ' to learn more about interactive tables.';\n",
              "        element.innerHTML = '';\n",
              "        dataTable['output_type'] = 'display_data';\n",
              "        await google.colab.output.renderOutput(dataTable, element);\n",
              "        const docLink = document.createElement('div');\n",
              "        docLink.innerHTML = docLinkHtml;\n",
              "        element.appendChild(docLink);\n",
              "      }\n",
              "    </script>\n",
              "  </div>\n",
              "\n",
              "\n",
              "<div id=\"df-9e8aa6be-ce19-4b81-8206-c0fb4f880242\">\n",
              "  <button class=\"colab-df-quickchart\" onclick=\"quickchart('df-9e8aa6be-ce19-4b81-8206-c0fb4f880242')\"\n",
              "            title=\"Suggest charts\"\n",
              "            style=\"display:none;\">\n",
              "\n",
              "<svg xmlns=\"http://www.w3.org/2000/svg\" height=\"24px\"viewBox=\"0 0 24 24\"\n",
              "     width=\"24px\">\n",
              "    <g>\n",
              "        <path d=\"M19 3H5c-1.1 0-2 .9-2 2v14c0 1.1.9 2 2 2h14c1.1 0 2-.9 2-2V5c0-1.1-.9-2-2-2zM9 17H7v-7h2v7zm4 0h-2V7h2v10zm4 0h-2v-4h2v4z\"/>\n",
              "    </g>\n",
              "</svg>\n",
              "  </button>\n",
              "\n",
              "<style>\n",
              "  .colab-df-quickchart {\n",
              "      --bg-color: #E8F0FE;\n",
              "      --fill-color: #1967D2;\n",
              "      --hover-bg-color: #E2EBFA;\n",
              "      --hover-fill-color: #174EA6;\n",
              "      --disabled-fill-color: #AAA;\n",
              "      --disabled-bg-color: #DDD;\n",
              "  }\n",
              "\n",
              "  [theme=dark] .colab-df-quickchart {\n",
              "      --bg-color: #3B4455;\n",
              "      --fill-color: #D2E3FC;\n",
              "      --hover-bg-color: #434B5C;\n",
              "      --hover-fill-color: #FFFFFF;\n",
              "      --disabled-bg-color: #3B4455;\n",
              "      --disabled-fill-color: #666;\n",
              "  }\n",
              "\n",
              "  .colab-df-quickchart {\n",
              "    background-color: var(--bg-color);\n",
              "    border: none;\n",
              "    border-radius: 50%;\n",
              "    cursor: pointer;\n",
              "    display: none;\n",
              "    fill: var(--fill-color);\n",
              "    height: 32px;\n",
              "    padding: 0;\n",
              "    width: 32px;\n",
              "  }\n",
              "\n",
              "  .colab-df-quickchart:hover {\n",
              "    background-color: var(--hover-bg-color);\n",
              "    box-shadow: 0 1px 2px rgba(60, 64, 67, 0.3), 0 1px 3px 1px rgba(60, 64, 67, 0.15);\n",
              "    fill: var(--button-hover-fill-color);\n",
              "  }\n",
              "\n",
              "  .colab-df-quickchart-complete:disabled,\n",
              "  .colab-df-quickchart-complete:disabled:hover {\n",
              "    background-color: var(--disabled-bg-color);\n",
              "    fill: var(--disabled-fill-color);\n",
              "    box-shadow: none;\n",
              "  }\n",
              "\n",
              "  .colab-df-spinner {\n",
              "    border: 2px solid var(--fill-color);\n",
              "    border-color: transparent;\n",
              "    border-bottom-color: var(--fill-color);\n",
              "    animation:\n",
              "      spin 1s steps(1) infinite;\n",
              "  }\n",
              "\n",
              "  @keyframes spin {\n",
              "    0% {\n",
              "      border-color: transparent;\n",
              "      border-bottom-color: var(--fill-color);\n",
              "      border-left-color: var(--fill-color);\n",
              "    }\n",
              "    20% {\n",
              "      border-color: transparent;\n",
              "      border-left-color: var(--fill-color);\n",
              "      border-top-color: var(--fill-color);\n",
              "    }\n",
              "    30% {\n",
              "      border-color: transparent;\n",
              "      border-left-color: var(--fill-color);\n",
              "      border-top-color: var(--fill-color);\n",
              "      border-right-color: var(--fill-color);\n",
              "    }\n",
              "    40% {\n",
              "      border-color: transparent;\n",
              "      border-right-color: var(--fill-color);\n",
              "      border-top-color: var(--fill-color);\n",
              "    }\n",
              "    60% {\n",
              "      border-color: transparent;\n",
              "      border-right-color: var(--fill-color);\n",
              "    }\n",
              "    80% {\n",
              "      border-color: transparent;\n",
              "      border-right-color: var(--fill-color);\n",
              "      border-bottom-color: var(--fill-color);\n",
              "    }\n",
              "    90% {\n",
              "      border-color: transparent;\n",
              "      border-bottom-color: var(--fill-color);\n",
              "    }\n",
              "  }\n",
              "</style>\n",
              "\n",
              "  <script>\n",
              "    async function quickchart(key) {\n",
              "      const quickchartButtonEl =\n",
              "        document.querySelector('#' + key + ' button');\n",
              "      quickchartButtonEl.disabled = true;  // To prevent multiple clicks.\n",
              "      quickchartButtonEl.classList.add('colab-df-spinner');\n",
              "      try {\n",
              "        const charts = await google.colab.kernel.invokeFunction(\n",
              "            'suggestCharts', [key], {});\n",
              "      } catch (error) {\n",
              "        console.error('Error during call to suggestCharts:', error);\n",
              "      }\n",
              "      quickchartButtonEl.classList.remove('colab-df-spinner');\n",
              "      quickchartButtonEl.classList.add('colab-df-quickchart-complete');\n",
              "    }\n",
              "    (() => {\n",
              "      let quickchartButtonEl =\n",
              "        document.querySelector('#df-9e8aa6be-ce19-4b81-8206-c0fb4f880242 button');\n",
              "      quickchartButtonEl.style.display =\n",
              "        google.colab.kernel.accessAllowed ? 'block' : 'none';\n",
              "    })();\n",
              "  </script>\n",
              "</div>\n",
              "\n",
              "    </div>\n",
              "  </div>\n"
            ],
            "application/vnd.google.colaboratory.intrinsic+json": {
              "type": "dataframe",
              "summary": "{\n  \"name\": \"pd\",\n  \"rows\": 5,\n  \"fields\": [\n    {\n      \"column\": \"constraints\",\n      \"properties\": {\n        \"dtype\": \"string\",\n        \"num_unique_values\": 5,\n        \"samples\": [\n          \"Calcium\",\n          \"Magnesium\",\n          \"Iron\"\n        ],\n        \"semantic_type\": \"\",\n        \"description\": \"\"\n      }\n    },\n    {\n      \"column\": \"shadow price\",\n      \"properties\": {\n        \"dtype\": \"category\",\n        \"num_unique_values\": 1,\n        \"samples\": [\n          \"0.00\"\n        ],\n        \"semantic_type\": \"\",\n        \"description\": \"\"\n      }\n    },\n    {\n      \"column\": \"slack\",\n      \"properties\": {\n        \"dtype\": \"string\",\n        \"num_unique_values\": 4,\n        \"samples\": [\n          \"-434.78\"\n        ],\n        \"semantic_type\": \"\",\n        \"description\": \"\"\n      }\n    }\n  ]\n}"
            }
          },
          "metadata": {},
          "execution_count": 26
        }
      ],
      "source": [
        "sensitivityValues = [{'constraints':name, 'shadow price':c.pi, 'slack': c.slack}\n",
        "                     for name, c in model.constraints.items()]\n",
        "\n",
        "pd.DataFrame(sensitivityValues).set_index('constraints').map('{:,.2f}'.format)"
      ]
    },
    {
      "cell_type": "markdown",
      "source": [
        "The End!"
      ],
      "metadata": {
        "id": "9XRZvC1HFkpO"
      },
      "id": "9XRZvC1HFkpO"
    }
  ],
  "metadata": {
    "kernelspec": {
      "display_name": "Python 3 (ipykernel)",
      "language": "python",
      "name": "python3"
    },
    "language_info": {
      "codemirror_mode": {
        "name": "ipython",
        "version": 3
      },
      "file_extension": ".py",
      "mimetype": "text/x-python",
      "name": "python",
      "nbconvert_exporter": "python",
      "pygments_lexer": "ipython3",
      "version": "3.10.16"
    },
    "colab": {
      "provenance": []
    }
  },
  "nbformat": 4,
  "nbformat_minor": 5
}